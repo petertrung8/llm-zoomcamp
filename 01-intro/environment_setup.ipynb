{
 "cells": [
  {
   "cell_type": "code",
   "execution_count": 1,
   "id": "b1fdddfc-8283-4c5b-a812-734f0b1660f9",
   "metadata": {},
   "outputs": [],
   "source": [
    "import openai\n",
    "import os\n",
    "from openai import OpenAI"
   ]
  },
  {
   "cell_type": "code",
   "execution_count": 3,
   "id": "e12bb61b-d8a4-48ca-844b-b44b70adaa2a",
   "metadata": {},
   "outputs": [],
   "source": [
    "client = OpenAI(\n",
    "    base_url=\"https://router.huggingface.co/v1\",\n",
    "    api_key=os.environ[\"HF_TOKEN\"],\n",
    ")"
   ]
  },
  {
   "cell_type": "code",
   "execution_count": 4,
   "id": "128aa32b-28b0-4dcc-91a2-5105e2608a04",
   "metadata": {},
   "outputs": [],
   "source": [
    "completion = client.chat.completions.create(\n",
    "    model=\"deepseek-ai/DeepSeek-V3-0324\",\n",
    "    messages=[{\"role\":\"user\", \"content\":\"is it too late to join the course?\"}])"
   ]
  },
  {
   "cell_type": "code",
   "execution_count": 9,
   "id": "0742700a-6a5c-49ea-817f-abf635448d23",
   "metadata": {},
   "outputs": [
    {
     "name": "stdout",
     "output_type": "stream",
     "text": [
      "Whether it's too late to join a course depends on the specific course, its policies, and how much of it has already progressed. Here’s how you can determine if you can still join:\n",
      "\n",
      "### Steps to Check:\n",
      "1. **Contact the Course Provider**  \n",
      "   - Email the instructor, school, or platform (e.g., Coursera, Udemy, university registrar) to ask if late enrollment is allowed. Some courses offer rolling admissions or self-paced options.\n",
      "\n",
      "2. **Review the Course Structure**  \n",
      "   - Is it **self-paced** (e.g., many online courses)? If so, you can likely join anytime.  \n",
      "   - For **live/cohort-based** courses, check if the start date is flexible or if recordings/materials are available.\n",
      "\n",
      "3. **Check Deadlines**  \n",
      "   - Some courses allow late enrollment with a penalty or partial access. Others may require you to wait for the next session.\n",
      "\n",
      "4. **Assess Your Readiness**  \n",
      "   - Can you catch up on missed material? Check if past lectures, assignments, or resources are accessible.\n",
      "\n",
      "### Examples:\n",
      "- **Online Platforms (Udemy, Coursera, edX):** Usually allow enrollment anytime.  \n",
      "- **University/College Courses:** Often have strict deadlines but may permit late adds with permission.  \n",
      "- **Bootcamps/Workshops:** May have fixed start dates; contact the organizer.\n",
      "\n",
      "### What to Ask:\n",
      "- \"Is late enrollment possible for this course?\"  \n",
      "- \"Are materials from earlier sessions available?\"  \n",
      "- \"Are there penalties for joining late (e.g., missed grades)?\"\n",
      "\n",
      "If you share the course name or platform, I can help find specific policies!\n"
     ]
    }
   ],
   "source": [
    "print(completion.choices[0].message.content)"
   ]
  },
  {
   "cell_type": "code",
   "execution_count": null,
   "id": "0c01b53e-aec9-49c4-a335-53a34ee2e0fd",
   "metadata": {},
   "outputs": [],
   "source": []
  }
 ],
 "metadata": {
  "kernelspec": {
   "display_name": "Python 3 (ipykernel)",
   "language": "python",
   "name": "python3"
  },
  "language_info": {
   "codemirror_mode": {
    "name": "ipython",
    "version": 3
   },
   "file_extension": ".py",
   "mimetype": "text/x-python",
   "name": "python",
   "nbconvert_exporter": "python",
   "pygments_lexer": "ipython3",
   "version": "3.11.13"
  }
 },
 "nbformat": 4,
 "nbformat_minor": 5
}
